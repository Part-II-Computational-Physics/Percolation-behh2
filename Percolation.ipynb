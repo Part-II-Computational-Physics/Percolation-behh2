{
 "cells": [
  {
   "attachments": {},
   "cell_type": "markdown",
   "id": "8ccd9db7",
   "metadata": {},
   "source": [
    "# 1. Introduction\n",
    "\n",
    "Percolation is a simple model in statistical physics that has been well studied. In this report we will...<br> Percolation theory describes the behaviour of _clusters_ in a large lattice of dimension d. The two most studied percolation models are site percolation and bond percolation. In site percolation, the lattice vertices are the relevant quantitities. Each lattice vertex/site is either \"occupied\", with probability $p$, or \"unoccupied\", with probability 1-$p$. A cluster is a group of occupied lattice sites that are connected by a chain o f nearest neigbour links (i.e for every site in a cluster, one of its nearest neigbours is also occupied)[1]. \n",
    "<br><br> Bond percolation is a similar model where the lattice bonds are the relevant quantities. Each bond is either \"open\", with probability $p$, or \"closed\", with probability 1-$p$ [2]. In both models, the probability of a site being occupied/a bond being open is independent of the status of its neighbours. \n",
    "<br><br> Percolation theory has a wide range of uses from modelling resistor networks to ecological disturbances like forest fires. However, it was first used to model the flow of a liquid through porous material. Using a model of bond percolation on a $n$ x $n$ x $n$ lattice we can ask, for given $p$, what is the probability that there exists an \"open\" chain of bonds through the lattice? (i.e will the liquid be able to pass through the material?) "
   ]
  },
  {
   "attachments": {},
   "cell_type": "markdown",
   "id": "d76ab5ad",
   "metadata": {},
   "source": [
    "#### __References__\n",
    "\n",
    "[1] D. Stauffer and A. Aharony, _Introduction to Percolation Theory_, 2nd ed. Taylor and Francis, London, 1992 <br>\n",
    "[2] Newman, MEJ, and Robert M Ziff. 2000. “Efficient Monte Carlo Algorithm and High-Precision Results for Percolation.” _Physical Review Letters_ 85 (19): 4104."
   ]
  }
 ],
 "metadata": {
  "kernelspec": {
   "display_name": "Python 3 (ipykernel)",
   "language": "python",
   "name": "python3"
  },
  "language_info": {
   "codemirror_mode": {
    "name": "ipython",
    "version": 3
   },
   "file_extension": ".py",
   "mimetype": "text/x-python",
   "name": "python",
   "nbconvert_exporter": "python",
   "pygments_lexer": "ipython3",
   "version": "3.10.1"
  }
 },
 "nbformat": 4,
 "nbformat_minor": 5
}
